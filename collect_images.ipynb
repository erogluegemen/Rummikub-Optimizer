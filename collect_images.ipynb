{
 "cells": [
  {
   "cell_type": "markdown",
   "id": "51123c17-d5aa-4248-a859-4b56f6922add",
   "metadata": {},
   "source": [
    "## Get Images From Bing"
   ]
  },
  {
   "cell_type": "code",
   "execution_count": 2,
   "id": "f22978c9-3c47-4246-b272-7c53272a668f",
   "metadata": {},
   "outputs": [],
   "source": [
    "from bing_image_downloader import downloader"
   ]
  },
  {
   "cell_type": "code",
   "execution_count": 9,
   "id": "85099601-cb41-4434-ac14-2e5c43a9debe",
   "metadata": {},
   "outputs": [],
   "source": [
    "def get_bing_images(search_title: str, limit):\n",
    "    downloader.download(search_title, output_dir='images', limit=limit)"
   ]
  },
  {
   "cell_type": "code",
   "execution_count": 10,
   "id": "608e74ba-49ac-4ce5-828d-9d9d5d52fc1d",
   "metadata": {},
   "outputs": [
    {
     "name": "stdout",
     "output_type": "stream",
     "text": [
      "[%] Downloading Images to /Users/egemeneroglu/PycharmProjects/101_project/images/rummikub tile\n",
      "\n",
      "\n",
      "[!!]Indexing page: 1\n",
      "\n",
      "[%] Indexed 10 Images on Page 1.\n",
      "\n",
      "===============================================\n",
      "\n",
      "[%] Downloading Image #1 from https://shop.dkoutlet.com/media/catalog/product/cache/2/image/9df78eab33525d08d6e5fb8d27136e95/P/R/PRE040004_L.jpg\n",
      "[%] File Downloaded !\n",
      "\n",
      "[%] Downloading Image #2 from https://cdn.amightygirl.com/catalog/product/cache/1/image/602f0fa2c1f0d1ba5e241f914e856ff9/r/u/rummikub_update.jpg?v=1gek6ir\n",
      "[%] File Downloaded !\n",
      "\n",
      "[%] Downloading Image #3 from https://cdn.instructables.com/ORIG/FP6/WCG8/GI0TIH5C/FP6WCG8GI0TIH5C.jpg?width=930\n",
      "[%] File Downloaded !\n",
      "\n",
      "[%] Downloading Image #4 from https://i.pinimg.com/originals/dd/1b/f7/dd1bf7e3ad3d24f47d7b7115f8840847.jpg\n",
      "[%] File Downloaded !\n",
      "\n",
      "[%] Downloading Image #5 from https://i.ebayimg.com/images/g/IAgAAOSweYxgka8c/s-l640.jpg\n",
      "[%] File Downloaded !\n",
      "\n",
      "[%] Downloading Image #6 from https://i.ebayimg.com/images/g/ReQAAOSwtM1fqIqO/s-l400.jpg\n",
      "[%] File Downloaded !\n",
      "\n",
      "[%] Downloading Image #7 from https://i.ebayimg.com/images/g/z5oAAOSwcH5e7cPK/s-l400.jpg\n",
      "[%] File Downloaded !\n",
      "\n",
      "[%] Downloading Image #8 from https://i.ebayimg.com/images/i/151952911814-0-1/s-l1000.jpg\n",
      "[%] File Downloaded !\n",
      "\n",
      "[%] Downloading Image #9 from https://images-na.ssl-images-amazon.com/images/I/412r7vm2UOL.jpg\n",
      "[%] File Downloaded !\n",
      "\n",
      "[%] Downloading Image #10 from https://i.etsystatic.com/7205750/r/il/288c18/1852369586/il_fullxfull.1852369586_fnf2.jpg\n",
      "[%] File Downloaded !\n",
      "\n",
      "\n",
      "\n",
      "[%] Done. Downloaded 10 images.\n"
     ]
    }
   ],
   "source": [
    "get_bing_images(search_title='rummikub tile', limit=10)"
   ]
  },
  {
   "cell_type": "markdown",
   "id": "0f1c1fec-e3bd-4822-918c-8d87aab23bf1",
   "metadata": {},
   "source": [
    "## Get Images From Google"
   ]
  },
  {
   "cell_type": "code",
   "execution_count": 3,
   "id": "7816661c-ea04-44a7-bf8e-e2d9acd7ed62",
   "metadata": {},
   "outputs": [],
   "source": [
    "# !pip install git+https://github.com/Joeclinton1/google-images-download.git\n",
    "from google_images_download import google_images_download as downloader"
   ]
  },
  {
   "cell_type": "code",
   "execution_count": 3,
   "id": "89f62c0e-97ed-4c33-a5c6-38959384575d",
   "metadata": {},
   "outputs": [],
   "source": [
    "def get_google_images(search_title: str, limit=100):\n",
    "    response = downloader.googleimagesdownload()\n",
    "    arguments = {'keywords':search_title, 'limit':limit, 'format':'jpg', 'print_urls':False}\n",
    "    path = response.download(arguments)"
   ]
  },
  {
   "cell_type": "code",
   "execution_count": 5,
   "id": "53cfc7e6-1d7b-41f0-9b57-b21746d68eb9",
   "metadata": {},
   "outputs": [],
   "source": [
    "get_google_images(search_title='rummikub tiles', limit=10)"
   ]
  }
 ],
 "metadata": {
  "kernelspec": {
   "display_name": "Python [conda env:datascience] *",
   "language": "python",
   "name": "conda-env-datascience-py"
  },
  "language_info": {
   "codemirror_mode": {
    "name": "ipython",
    "version": 3
   },
   "file_extension": ".py",
   "mimetype": "text/x-python",
   "name": "python",
   "nbconvert_exporter": "python",
   "pygments_lexer": "ipython3",
   "version": "3.8.13"
  }
 },
 "nbformat": 4,
 "nbformat_minor": 5
}
