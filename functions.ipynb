{
 "cells": [
  {
   "cell_type": "code",
   "execution_count": 10,
   "id": "9e9f7bfd-3c5f-4447-b8bc-42361028202b",
   "metadata": {},
   "outputs": [],
   "source": [
    "total = 0  # try to do: total >= 101\n",
    "total_set = []  # if check function returns true, add here."
   ]
  },
  {
   "cell_type": "markdown",
   "id": "8b23e886-7443-4a1d-9c0a-fd35db3ba666",
   "metadata": {
    "tags": []
   },
   "source": [
    "## Check Sequential Set"
   ]
  },
  {
   "cell_type": "code",
   "execution_count": 1,
   "id": "806fab91-718e-4406-9d41-4b37174b05fd",
   "metadata": {},
   "outputs": [],
   "source": [
    "def check_Set(Set: list) -> bool:\n",
    "    min_len_set = 3\n",
    "\n",
    "    # 1: Calculate Run Set\n",
    "    if len(Set) < min_len_set:\n",
    "        return False\n",
    "\n",
    "    min_val = min(Set)\n",
    "    max_val = max(Set)\n",
    "\n",
    "    if max_val - min_val + 1 == len(Set):\n",
    "        for tile in range(len(Set)):\n",
    "            dif = Set[tile] - min_val\n",
    "            if Set[tile] > 0:\n",
    "                Set[tile] = Set[dif]\n",
    "            else:\n",
    "                return False\n",
    "        return True\n",
    "    \n",
    "    # 1.1: Calculate Group Set\n",
    "    elif len(set(Set)) == 1:\n",
    "        def check_group(Set: list) -> bool:\n",
    "            set_length = [3,4]  # Set length might be 3 or 4\n",
    "            if len(Set) == set_length[0] or len(Set) == set_length[1]:\n",
    "                return True\n",
    "            return False\n",
    "        cg = check_group(Set)\n",
    "        return cg\n",
    "    else:\n",
    "        return False"
   ]
  },
  {
   "cell_type": "markdown",
   "id": "a3f75420-af57-465c-97d8-d5fac4ebcbb0",
   "metadata": {},
   "source": [
    "## Test check_Set function"
   ]
  },
  {
   "cell_type": "code",
   "execution_count": 2,
   "id": "45a65a36-75a8-4d4b-b72e-25a1949b1b5b",
   "metadata": {},
   "outputs": [
    {
     "name": "stdout",
     "output_type": "stream",
     "text": [
      "\n",
      "#########################\n",
      "Set 1: True\n",
      "Set 2: True\n",
      "Set 3: False\n",
      "Set 4: False\n",
      "Set 5: True\n",
      "Set 6: True\n",
      "#########################\n",
      "    \n"
     ]
    }
   ],
   "source": [
    "set1 = [1,5,2,4,3]  # True\n",
    "set2 = [4,6,7,5]    # True\n",
    "set3 = [10,10,11]   # False\n",
    "set4 = [7,8]        # False\n",
    "set5 = [13,13,13]   # True\n",
    "set6 = [6,6,6,6]    # True\n",
    "\n",
    "\n",
    "print(f'''\n",
    "#########################\n",
    "Set 1: {check_Set(set1)}\n",
    "Set 2: {check_Set(set2)}\n",
    "Set 3: {check_Set(set3)}\n",
    "Set 4: {check_Set(set4)}\n",
    "Set 5: {check_Set(set5)}\n",
    "Set 6: {check_Set(set6)}\n",
    "#########################\n",
    "    ''') "
   ]
  },
  {
   "cell_type": "markdown",
   "id": "53572429-666e-4b17-b484-ab3a6ab476f0",
   "metadata": {},
   "source": [
    "## Check Double Set"
   ]
  },
  {
   "cell_type": "code",
   "execution_count": 3,
   "id": "4ec2f44e-6c4a-4ddf-8956-7657ba9abd95",
   "metadata": {},
   "outputs": [],
   "source": [
    "def check_double_Set(Set: list) -> bool:\n",
    "    max_len_set = 2\n",
    "\n",
    "    # 2nd way: (same-value tiles in distinct colors / double)\n",
    "    if len(Set) < max_len_set or len(Set) > max_len_set:  # len can only be 2.\n",
    "        return False\n",
    "\n",
    "    else:\n",
    "        if len(set(Set)) != 1:  # set cannot have duplicates. so len must be equal to 1.\n",
    "            return False\n",
    "        return True"
   ]
  },
  {
   "cell_type": "markdown",
   "id": "fbda5297-4bfe-476b-84f6-114126629fef",
   "metadata": {},
   "source": [
    "## Test check_double_Set function"
   ]
  },
  {
   "cell_type": "code",
   "execution_count": 4,
   "id": "e8c464de-5258-493c-b8d1-cf61b977c8d5",
   "metadata": {},
   "outputs": [
    {
     "name": "stdout",
     "output_type": "stream",
     "text": [
      "\n",
      "#########################\n",
      "Set 1: True\n",
      "Set 2: True\n",
      "Set 3: False\n",
      "Set 4: False\n",
      "Set 5: True\n",
      "Set 6: True\n",
      "#########################\n",
      "    \n"
     ]
    }
   ],
   "source": [
    "set1 = [2,2]    # True\n",
    "set2 = [13,13]  # True\n",
    "set3 = [9,10]   # False\n",
    "set4 = [5,5,5]  # False\n",
    "set5 = [13,13]  # True\n",
    "set6 = [1,1]    # True\n",
    "\n",
    "\n",
    "print(f'''\n",
    "#########################\n",
    "Set 1: {check_double_Set(set1)}\n",
    "Set 2: {check_double_Set(set2)}\n",
    "Set 3: {check_double_Set(set3)}\n",
    "Set 4: {check_double_Set(set4)}\n",
    "Set 5: {check_double_Set(set5)}\n",
    "Set 6: {check_double_Set(set6)}\n",
    "#########################\n",
    "    ''') "
   ]
  },
  {
   "cell_type": "markdown",
   "id": "8ae8f591-b27f-4bfa-8d83-d5b23134653f",
   "metadata": {},
   "source": [
    "## Calculate Rack"
   ]
  },
  {
   "cell_type": "code",
   "execution_count": 13,
   "id": "687e4d26-cb08-4044-880d-ded6bcba54c4",
   "metadata": {},
   "outputs": [],
   "source": [
    "def calculate() -> str:\n",
    "    global total, total_set\n",
    "    for idx, total in enumerate(total_set):\n",
    "        total = total + (sum(total_set[idx]))\n",
    "\n",
    "    if total >= 101:\n",
    "        print('#########################')\n",
    "        print(f'Durum:El açar.\\nGüncel puan: {total}')\n",
    "        print('#########################')\n",
    "        \n",
    "    else:\n",
    "        print('#########################')\n",
    "        print(f'Durum: El açmaz.\\nGüncel puan: {total}\\nAçmak için gerekli olan puan: {101 - total}')\n",
    "        print('#########################')"
   ]
  },
  {
   "cell_type": "code",
   "execution_count": 14,
   "id": "3662a6b9-2638-42d1-8a76-559633082e05",
   "metadata": {},
   "outputs": [
    {
     "name": "stdout",
     "output_type": "stream",
     "text": [
      "#########################\n",
      "Durum: El açmaz.\n",
      "Güncel puan: 0\n",
      "Açmak için gerekli olan puan: 101\n",
      "#########################\n"
     ]
    }
   ],
   "source": [
    "calculate()"
   ]
  },
  {
   "cell_type": "markdown",
   "id": "977fc80b-99ce-4143-bb3a-95398616fa22",
   "metadata": {},
   "source": [
    "## Calculate Rack 2"
   ]
  },
  {
   "cell_type": "code",
   "execution_count": 19,
   "id": "5d5d2c89-328b-4f40-9d39-120c6141f032",
   "metadata": {},
   "outputs": [],
   "source": [
    "def calculate_double() -> str:\n",
    "    total_set_count = 5\n",
    "    current_set_count = len(total_set)\n",
    "    if current_set_count < total_set_count:\n",
    "        print('#########################')\n",
    "        print(f'El açmaz.\\nGüncel per sayısı: {current_set_count}\\nEl açmak için gerekli olan per sayısı: {total_set_count - current_set_count}')\n",
    "        print('#########################')\n",
    "\n",
    "    else:\n",
    "        print('#########################')\n",
    "        print(f'El açar.\\nToplam per sayısı: {total_set_count}')\n",
    "        print('#########################')"
   ]
  },
  {
   "cell_type": "code",
   "execution_count": 20,
   "id": "09670ba4-c533-4553-b404-0a2a9d9f0102",
   "metadata": {},
   "outputs": [
    {
     "name": "stdout",
     "output_type": "stream",
     "text": [
      "#########################\n",
      "El açmaz.\n",
      "Güncel per sayısı: 0\n",
      "El açmak için gerekli olan per sayısı: 5\n",
      "#########################\n"
     ]
    }
   ],
   "source": [
    "calculate_double()"
   ]
  }
 ],
 "metadata": {
  "kernelspec": {
   "display_name": "Python [conda env:datascience] *",
   "language": "python",
   "name": "conda-env-datascience-py"
  },
  "language_info": {
   "codemirror_mode": {
    "name": "ipython",
    "version": 3
   },
   "file_extension": ".py",
   "mimetype": "text/x-python",
   "name": "python",
   "nbconvert_exporter": "python",
   "pygments_lexer": "ipython3",
   "version": "3.8.13"
  }
 },
 "nbformat": 4,
 "nbformat_minor": 5
}
