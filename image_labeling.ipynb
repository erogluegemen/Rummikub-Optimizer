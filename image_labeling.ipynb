{
 "cells": [
  {
   "cell_type": "markdown",
   "id": "cbd8b0d6-6925-4bd7-877d-9b2b63811b66",
   "metadata": {},
   "source": [
    "## Labeling Data"
   ]
  },
  {
   "cell_type": "code",
   "execution_count": 4,
   "id": "cba46e6b-1214-43c9-a3b1-7a08f55fdd8c",
   "metadata": {},
   "outputs": [],
   "source": [
    "from multi_label_pigeon import multi_label_annotate\n",
    "from IPython.display import display, Image"
   ]
  },
  {
   "cell_type": "code",
   "execution_count": null,
   "id": "b065fde7-4011-44f0-bcdc-43e71c56fd13",
   "metadata": {},
   "outputs": [],
   "source": [
    "annotations = multi_label_annotate(\n",
    "    ['assets/image1.jpg', 'assets/image2.jpg', 'assets/image3.jpg', 'assets/image4.jpg'],\n",
    "    options={'colors':['red','yellow','black','blue'], 'numbers':[1,2,3,4,5,6,7,8,9,10,11,12,13]},\n",
    "    display_fn=lambda filename: display(Image(filename))\n",
    ")\n",
    "# okey and fake okey tiles are not included to labeling"
   ]
  },
  {
   "cell_type": "code",
   "execution_count": null,
   "id": "71fd7d4c-6da9-4ab5-b969-e4e98d09e5c7",
   "metadata": {},
   "outputs": [],
   "source": [
    "annotations"
   ]
  },
  {
   "cell_type": "markdown",
   "id": "42b7531b-771a-43de-8167-fea6be1fa604",
   "metadata": {},
   "source": [
    "## Defining Tile Labels"
   ]
  },
  {
   "cell_type": "code",
   "execution_count": 9,
   "id": "2051ce07-9113-47ed-9ee6-c982b37b28d5",
   "metadata": {},
   "outputs": [
    {
     "data": {
      "text/plain": [
       "('black', 1)"
      ]
     },
     "execution_count": 9,
     "metadata": {},
     "output_type": "execute_result"
    }
   ],
   "source": [
    "colors = ['red','yellow','black','blue']\n",
    "numbers = [1,2,3,4,5,6,7,8,9,10,11,12,13]\n",
    "tiles = []\n",
    "\n",
    "for i in colors:\n",
    "    for j in numbers:\n",
    "        tiles.append(i)\n",
    "        tiles.append(j)\n",
    "        \n",
    "tiles_num = []\n",
    "tiles_color = []\n",
    "\n",
    "for idx, element in enumerate(tiles):\n",
    "    if idx%2==0:\n",
    "        tiles_color.append(element)\n",
    "    if idx%2!=0:\n",
    "        tiles_num.append(element)\n",
    "\n",
    "tile_set = list(zip(tiles_color,tiles_num))  # tile set type is list but the elements of the list are tuples.\n",
    "\n",
    "for x in range(len(tile_set)):\n",
    "    globals()['tile%s' % (x+1)] = tile_set[x]\n",
    "\n",
    "tile27  # between tile1 and tile52"
   ]
  }
 ],
 "metadata": {
  "kernelspec": {
   "display_name": "Python [conda env:datascience] *",
   "language": "python",
   "name": "conda-env-datascience-py"
  },
  "language_info": {
   "codemirror_mode": {
    "name": "ipython",
    "version": 3
   },
   "file_extension": ".py",
   "mimetype": "text/x-python",
   "name": "python",
   "nbconvert_exporter": "python",
   "pygments_lexer": "ipython3",
   "version": "3.8.13"
  }
 },
 "nbformat": 4,
 "nbformat_minor": 5
}
