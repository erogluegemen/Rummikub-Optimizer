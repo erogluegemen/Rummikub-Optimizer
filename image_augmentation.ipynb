{
 "cells": [
  {
   "cell_type": "code",
   "execution_count": 2,
   "id": "622c794e-867c-47b8-9fe0-e5438a43f400",
   "metadata": {},
   "outputs": [],
   "source": [
    "# !pip install Augmentor\n",
    "import Augmentor"
   ]
  },
  {
   "cell_type": "code",
   "execution_count": 20,
   "id": "59ca8785-e349-4335-bc60-2dbefb2b9578",
   "metadata": {},
   "outputs": [],
   "source": [
    "def augment(path:str):\n",
    "    p = Augmentor.Pipeline(path)  # have source_directory, output_directory parameters.\n",
    "    p.zoom(probability=0.3, min_factor=0.8, max_factor=1.5)\n",
    "    p.flip_top_bottom(probability=0.4)\n",
    "    p.flip_left_right(probability=0.4)\n",
    "    p.rotate90(probability=0.75)\n",
    "    p.skew(probability=0.2)\n",
    "    p.shear(probability=0.2, max_shear_left=2, max_shear_right=2)\n",
    "    p.rotate(probability=0.2, max_left_rotation=2, max_right_rotation=2)\n",
    "    p.random_brightness(probability=0.3, min_factor=0.3, max_factor=1.2)\n",
    "    p.random_distortion(probability=1, grid_width=4, grid_height=4, magnitude=8)\n",
    "    p.sample(100)"
   ]
  },
  {
   "cell_type": "code",
   "execution_count": 39,
   "id": "d44b88e2-6990-4e1f-bedd-7df5051c5550",
   "metadata": {},
   "outputs": [],
   "source": [
    "PATH = '/Users/egemeneroglu/PycharmProjects/101_project/tiles/'\n",
    "colors = ['black', 'blue', 'orange', 'red']\n",
    "okeys = ['okey', 'fake_okey']"
   ]
  },
  {
   "cell_type": "code",
   "execution_count": null,
   "id": "f51e4f76-2133-4dd0-b6d3-1da2d7afe3e2",
   "metadata": {},
   "outputs": [],
   "source": [
    "for color in colors:\n",
    "    path = (PATH + color + '/')\n",
    "    for image in range(1,14):\n",
    "        new_path = (path + color + '_' + str(image))\n",
    "        print('augmented file: ', new_path)\n",
    "        augment(new_path)"
   ]
  },
  {
   "cell_type": "code",
   "execution_count": 42,
   "id": "ce8cdd41-79a9-4cd0-84cd-0c9f3e57e350",
   "metadata": {},
   "outputs": [
    {
     "name": "stdout",
     "output_type": "stream",
     "text": [
      "augmented file:  /Users/egemeneroglu/PycharmProjects/101_project/tiles/okey/\n",
      "Initialised with 20 image(s) found.\n",
      "Output directory set to /Users/egemeneroglu/PycharmProjects/101_project/tiles/okey/output."
     ]
    },
    {
     "name": "stderr",
     "output_type": "stream",
     "text": [
      "Processing <PIL.Image.Image image mode=RGB size=4032x3024 at 0x7FE5F8C31E50>: 10\n"
     ]
    },
    {
     "name": "stdout",
     "output_type": "stream",
     "text": [
      "augmented file:  /Users/egemeneroglu/PycharmProjects/101_project/tiles/fake_okey/\n",
      "Initialised with 20 image(s) found.\n",
      "Output directory set to /Users/egemeneroglu/PycharmProjects/101_project/tiles/fake_okey/output."
     ]
    },
    {
     "name": "stderr",
     "output_type": "stream",
     "text": [
      "Processing <PIL.Image.Image image mode=RGB size=4032x3024 at 0x7FE5E8A6AD90>: 10\n"
     ]
    }
   ],
   "source": [
    "for o in okeys:\n",
    "    path = (PATH + o + '/')\n",
    "    print('augmented file: ', path)\n",
    "    augment(path)"
   ]
  }
 ],
 "metadata": {
  "kernelspec": {
   "display_name": "Python [conda env:datascience] *",
   "language": "python",
   "name": "conda-env-datascience-py"
  },
  "language_info": {
   "codemirror_mode": {
    "name": "ipython",
    "version": 3
   },
   "file_extension": ".py",
   "mimetype": "text/x-python",
   "name": "python",
   "nbconvert_exporter": "python",
   "pygments_lexer": "ipython3",
   "version": "3.8.13"
  }
 },
 "nbformat": 4,
 "nbformat_minor": 5
}
