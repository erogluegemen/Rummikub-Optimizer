{
 "cells": [
  {
   "cell_type": "code",
   "execution_count": 39,
   "id": "9e9f7bfd-3c5f-4447-b8bc-42361028202b",
   "metadata": {},
   "outputs": [],
   "source": [
    "total = 0 # try to do 101\n",
    "total_per = [] # check per if returns True append list"
   ]
  },
  {
   "cell_type": "markdown",
   "id": "8b23e886-7443-4a1d-9c0a-fd35db3ba666",
   "metadata": {},
   "source": [
    "## Check Sequential Per\n"
   ]
  },
  {
   "cell_type": "code",
   "execution_count": 156,
   "id": "bd113cbb-cbc6-4ec3-9dd2-9609fb3ba548",
   "metadata": {},
   "outputs": [],
   "source": [
    "def check_per(per: list):\n",
    "    min_len_per = 3\n",
    "\n",
    "    # 1st way: (same-colored tiles, in sequential order / Series)\n",
    "    if len(per) < min_len_per:\n",
    "        return False\n",
    "\n",
    "    min_val = min(per)\n",
    "    max_val = max(per)\n",
    "\n",
    "    if max_val - min_val + 1 == len(per):\n",
    "        for tile in range(len(per)):\n",
    "            diff = per[tile] - min_val\n",
    "            if per[tile] > 0:\n",
    "                per[tile] = per[diff]\n",
    "            else:\n",
    "                return False\n",
    "        return True\n",
    "    return False\n",
    "\n",
    "# [3, 3, 3] per'ini kabul etmiyor."
   ]
  },
  {
   "cell_type": "code",
   "execution_count": 160,
   "id": "58946c26-6f20-4ae4-a882-88110f60e763",
   "metadata": {},
   "outputs": [
    {
     "name": "stdout",
     "output_type": "stream",
     "text": [
      "True True\n"
     ]
    }
   ],
   "source": [
    "# can be written as inner fuction for check_per function\n",
    "def test_per(per: list):\n",
    "    per_length = [3,4]  # per length might be 3 or 4\n",
    "    # len_per = 3 or 4\n",
    "    if len(per) == per_length[0] or len(per) == per_length[1]:\n",
    "        if len(set(per)) != 1:  # set cannot have duplicates. so len must be equal to 1.\n",
    "            return False\n",
    "        return True\n",
    "    return False\n",
    "  \n",
    "     \n",
    "print(test_per([2,2,2]),test_per([13,13,13]))"
   ]
  },
  {
   "cell_type": "markdown",
   "id": "a3f75420-af57-465c-97d8-d5fac4ebcbb0",
   "metadata": {},
   "source": [
    "## Test check_per function"
   ]
  },
  {
   "cell_type": "code",
   "execution_count": 158,
   "id": "45a65a36-75a8-4d4b-b72e-25a1949b1b5b",
   "metadata": {},
   "outputs": [
    {
     "name": "stdout",
     "output_type": "stream",
     "text": [
      "\n",
      "#########################\n",
      "per1: True\n",
      "per2: True\n",
      "per3: False\n",
      "per4: False\n",
      "#########################\n",
      "    \n"
     ]
    }
   ],
   "source": [
    "per1 = [1, 2, 3]\n",
    "per2 = [4, 5, 6, 7]\n",
    "per3 = [10, 10, 11]\n",
    "per4 = [7, 8]\n",
    "\n",
    "print(f'''\n",
    "#########################\n",
    "per1: {check_per(per1)}\n",
    "per2: {check_per(per2)}\n",
    "per3: {check_per(per3)}\n",
    "per4: {check_per(per4)}\n",
    "#########################\n",
    "    ''') "
   ]
  },
  {
   "cell_type": "markdown",
   "id": "53572429-666e-4b17-b484-ab3a6ab476f0",
   "metadata": {},
   "source": [
    "## Check Double Per"
   ]
  },
  {
   "cell_type": "code",
   "execution_count": 15,
   "id": "4ec2f44e-6c4a-4ddf-8956-7657ba9abd95",
   "metadata": {},
   "outputs": [],
   "source": [
    "def check_double_per(per: list):\n",
    "    max_len_per = 2\n",
    "\n",
    "    # 2nd way: (same-value tiles in distinct colors / double)\n",
    "    if len(per) < max_len_per or len(per) > max_len_per:  # len can only be 2.\n",
    "        return False\n",
    "\n",
    "    else:\n",
    "        if len(set(per)) != 1:  # set cannot have duplicates. so len must be equal to 1.\n",
    "            return False\n",
    "        return True"
   ]
  },
  {
   "cell_type": "code",
   "execution_count": 28,
   "id": "e8c464de-5258-493c-b8d1-cf61b977c8d5",
   "metadata": {},
   "outputs": [
    {
     "name": "stdout",
     "output_type": "stream",
     "text": [
      "\n",
      "#########################\n",
      "per1: True\n",
      "per2: True\n",
      "per3: False\n",
      "per4: False\n",
      "#########################\n",
      "    \n"
     ]
    }
   ],
   "source": [
    "per1 = [2, 2]\n",
    "per2 = [13, 13]\n",
    "per3 = [9, 10]\n",
    "per4 = [5, 5, 5]\n",
    "\n",
    "\n",
    "print(f'''\n",
    "#########################\n",
    "per1: {check_double_per(per1)}\n",
    "per2: {check_double_per(per2)}\n",
    "per3: {check_double_per(per3)}\n",
    "per4: {check_double_per(per4)}\n",
    "#########################\n",
    "    ''') \n"
   ]
  },
  {
   "cell_type": "markdown",
   "id": "8ae8f591-b27f-4bfa-8d83-d5b23134653f",
   "metadata": {},
   "source": [
    "## Calculate Rack"
   ]
  },
  {
   "cell_type": "code",
   "execution_count": 37,
   "id": "687e4d26-cb08-4044-880d-ded6bcba54c4",
   "metadata": {},
   "outputs": [],
   "source": [
    "def calculate():\n",
    "    global total, total_per\n",
    "    for idx, per in enumerate(total_per):\n",
    "        total = total + (sum(total_per[idx]))\n",
    "\n",
    "    if total >= 101:\n",
    "        print('#########################')\n",
    "        print(f'El açar.\\nGüncel puan: {total}')\n",
    "        print('#########################')\n",
    "        \n",
    "    else:\n",
    "        print('#########################')\n",
    "        print(f'El açmaz.\\nGüncel puan: {total}\\nAçmak için gerekli olan puan: {101 - total}')\n",
    "        print('#########################')"
   ]
  },
  {
   "cell_type": "code",
   "execution_count": 40,
   "id": "3662a6b9-2638-42d1-8a76-559633082e05",
   "metadata": {},
   "outputs": [
    {
     "name": "stdout",
     "output_type": "stream",
     "text": [
      "#########################\n",
      "El açmaz.\n",
      "Güncel puan: 0\n",
      "Açmak için gerekli olan puan: 101\n",
      "#########################\n"
     ]
    }
   ],
   "source": [
    "calculate()"
   ]
  }
 ],
 "metadata": {
  "kernelspec": {
   "display_name": "Python [conda env:datascience] *",
   "language": "python",
   "name": "conda-env-datascience-py"
  },
  "language_info": {
   "codemirror_mode": {
    "name": "ipython",
    "version": 3
   },
   "file_extension": ".py",
   "mimetype": "text/x-python",
   "name": "python",
   "nbconvert_exporter": "python",
   "pygments_lexer": "ipython3",
   "version": "3.8.13"
  }
 },
 "nbformat": 4,
 "nbformat_minor": 5
}
