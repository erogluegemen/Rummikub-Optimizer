{
 "cells": [
  {
   "cell_type": "code",
   "execution_count": 14,
   "id": "9e9f7bfd-3c5f-4447-b8bc-42361028202b",
   "metadata": {},
   "outputs": [],
   "source": [
    "total = 0  # try to do: total >= 101\n",
    "# total_set = [] # if check function returns true, add here, else delete the set.\n",
    "total_set = [[('black', 6), ('black', 7), ('red', 8)],\n",
    "             [('black', 1), ('black', 2), ('black', 3)]]  # if check function returns true, add here.\n",
    "\n",
    "# Sample Inputs\n",
    "# input_1: [(black,1),(black,2), (black,3)]\n",
    "# input_2: [(black, 6), (black, 7), (red, 8)]\n",
    "\n",
    "color_count = set()\n",
    "num_count = []\n",
    "\n",
    "# Test\n",
    "set2 = [('black', 13), ('black', 13), ('red', 13)]  \n",
    "for idx, color in enumerate(set2):\n",
    "    color_count.add(set2[idx][0])\n",
    "    num_count.append(set2[idx][1])"
   ]
  },
  {
   "cell_type": "markdown",
   "id": "8b23e886-7443-4a1d-9c0a-fd35db3ba666",
   "metadata": {
    "tags": []
   },
   "source": [
    "## Check Sequential Set"
   ]
  },
  {
   "cell_type": "code",
   "execution_count": 15,
   "id": "806fab91-718e-4406-9d41-4b37174b05fd",
   "metadata": {},
   "outputs": [],
   "source": [
    "def check_Set(Set: list) -> bool:\n",
    "    color_count, num_count = [], []\n",
    "    min_len_set = 3\n",
    "    \n",
    "    # Calculate Run Set\n",
    "    # Color Condition: equal to 1\n",
    "    # Length Condition: between 3<=set_length<=13\n",
    "    \n",
    "    for idx, color in enumerate(Set):\n",
    "        color_count.append(Set[idx][0])\n",
    "        num_count.append(Set[idx][1])\n",
    "        \n",
    "    min_val = min(num_count)\n",
    "    max_val = max(num_count)\n",
    "        \n",
    "    if len(num_count) < min_len_set:\n",
    "        return False\n",
    "    \n",
    "    if max_val - min_val + 1 == len(num_count):\n",
    "        for tile in range(len(num_count)):\n",
    "            diff = num_count[tile] - min_val\n",
    "            if num_count[tile] > 0:\n",
    "                num_count[tile] = num_count[diff]\n",
    "                \n",
    "            else:\n",
    "                return False\n",
    "            \n",
    "        return True\n",
    "    \n",
    "    # Calculate Group Set\n",
    "    # Color Condition: between 3<=color_count<=4\n",
    "    # Length Condition: between 3<=set_length<=4\n",
    "    \n",
    "    if len(set(num_count)) == 1:\n",
    "        def check_group(Set: list) -> bool:\n",
    "            color_count, num_count = [], []\n",
    "\n",
    "            for idx, color in enumerate(Set):\n",
    "                color_count.append(Set[idx][0])\n",
    "                num_count.append(Set[idx][1])\n",
    "\n",
    "\n",
    "            if len(set(color_count)) == 3 or len(set(color_count)) == 4:\n",
    "                if len(num_count) == 3 or len(num_count) == 4:\n",
    "                    return True\n",
    "                else:\n",
    "                    return False\n",
    "            else:\n",
    "                return False\n",
    "            \n",
    "        cg = check_group(Set)\n",
    "        return cg\n",
    "    else:\n",
    "        return False"
   ]
  },
  {
   "cell_type": "markdown",
   "id": "a3f75420-af57-465c-97d8-d5fac4ebcbb0",
   "metadata": {},
   "source": [
    "## Test check_Set function"
   ]
  },
  {
   "cell_type": "code",
   "execution_count": 16,
   "id": "45a65a36-75a8-4d4b-b72e-25a1949b1b5b",
   "metadata": {},
   "outputs": [
    {
     "name": "stdout",
     "output_type": "stream",
     "text": [
      "\n",
      "#########################\n",
      "Set 1: True\n",
      "Set 2: True\n",
      "Set 3: False\n",
      "Set 4: False\n",
      "Set 5: True\n",
      "Set 6: True\n",
      "#########################\n",
      "    \n"
     ]
    }
   ],
   "source": [
    "set1 = [('red', 1), ('red', 5), ('red', 2), ('red', 4), ('red', 3)]  # True\n",
    "set2 = [('black', 4), ('black', 6), ('black', 7), ('black', 5)]      # True\n",
    "set3 = [('orange', 10), ('orange', 10), ('orange', 11)]              # False\n",
    "set4 = [('red', 7), ('red', 8)]                                      # False\n",
    "set5 = [('blue', 13), ('black', 13), ('red', 13)]                    # True\n",
    "set6 = [('black', 6), ('blue', 6), ('red', 6), ('orange', 6)]        # True\n",
    "\n",
    "print(f'''\n",
    "#########################\n",
    "Set 1: {check_Set(set1)}\n",
    "Set 2: {check_Set(set2)}\n",
    "Set 3: {check_Set(set3)}\n",
    "Set 4: {check_Set(set4)}\n",
    "Set 5: {check_Set(set5)}\n",
    "Set 6: {check_Set(set6)}\n",
    "#########################\n",
    "    ''') "
   ]
  },
  {
   "cell_type": "markdown",
   "id": "53572429-666e-4b17-b484-ab3a6ab476f0",
   "metadata": {},
   "source": [
    "## Check Double Set"
   ]
  },
  {
   "cell_type": "code",
   "execution_count": 17,
   "id": "4ec2f44e-6c4a-4ddf-8956-7657ba9abd95",
   "metadata": {},
   "outputs": [],
   "source": [
    "def check_double_Set(Set: list) -> bool:\n",
    "    max_len_set = 2\n",
    "\n",
    "    # Same-value tiles in distinct colors / double\n",
    "    if len(Set) < max_len_set or len(Set) > max_len_set:  # len can only be 2.\n",
    "        return False\n",
    "\n",
    "    else:\n",
    "        if len(set(Set)) != 1:  # set cannot have duplicates. so len must be equal to 1.\n",
    "            return False\n",
    "        return True"
   ]
  },
  {
   "cell_type": "markdown",
   "id": "fbda5297-4bfe-476b-84f6-114126629fef",
   "metadata": {},
   "source": [
    "## Test check_double_Set function"
   ]
  },
  {
   "cell_type": "code",
   "execution_count": 18,
   "id": "e8c464de-5258-493c-b8d1-cf61b977c8d5",
   "metadata": {},
   "outputs": [
    {
     "name": "stdout",
     "output_type": "stream",
     "text": [
      "\n",
      "#########################\n",
      "Set 1: True\n",
      "Set 2: True\n",
      "Set 3: False\n",
      "Set 4: False\n",
      "Set 5: True\n",
      "Set 6: True\n",
      "#########################\n",
      "    \n"
     ]
    }
   ],
   "source": [
    "set1 = [2,2]    # True\n",
    "set2 = [13,13]  # True\n",
    "set3 = [9,10]   # False\n",
    "set4 = [5,5,5]  # False\n",
    "set5 = [13,13]  # True\n",
    "set6 = [1,1]    # True\n",
    "\n",
    "\n",
    "print(f'''\n",
    "#########################\n",
    "Set 1: {check_double_Set(set1)}\n",
    "Set 2: {check_double_Set(set2)}\n",
    "Set 3: {check_double_Set(set3)}\n",
    "Set 4: {check_double_Set(set4)}\n",
    "Set 5: {check_double_Set(set5)}\n",
    "Set 6: {check_double_Set(set6)}\n",
    "#########################\n",
    "    ''') "
   ]
  },
  {
   "cell_type": "markdown",
   "id": "8ae8f591-b27f-4bfa-8d83-d5b23134653f",
   "metadata": {},
   "source": [
    "## Calculate Rack"
   ]
  },
  {
   "cell_type": "code",
   "execution_count": 19,
   "id": "687e4d26-cb08-4044-880d-ded6bcba54c4",
   "metadata": {},
   "outputs": [],
   "source": [
    "def calculate() -> str:\n",
    "    global total, total_set\n",
    "    for idx, total in enumerate(total_set):\n",
    "        total = total + (sum(total_set[idx]))\n",
    "\n",
    "    if total >= 101:\n",
    "        print('#' * 25)\n",
    "        print(f'Durum:El açar.\\nGüncel puan: {total}')\n",
    "        print('#' * 25)\n",
    "        \n",
    "    else:\n",
    "        print('#' * 25)\n",
    "        print(f'Durum: El açmaz.\\nGüncel puan: {total}\\nAçmak için gerekli olan puan: {101 - total}')\n",
    "        print('#' * 25)"
   ]
  },
  {
   "cell_type": "code",
   "execution_count": 20,
   "id": "3662a6b9-2638-42d1-8a76-559633082e05",
   "metadata": {},
   "outputs": [
    {
     "ename": "TypeError",
     "evalue": "unsupported operand type(s) for +: 'int' and 'tuple'",
     "output_type": "error",
     "traceback": [
      "\u001b[1;31m---------------------------------------------------------------------------\u001b[0m",
      "\u001b[1;31mTypeError\u001b[0m                                 Traceback (most recent call last)",
      "Input \u001b[1;32mIn [20]\u001b[0m, in \u001b[0;36m<cell line: 1>\u001b[1;34m()\u001b[0m\n\u001b[1;32m----> 1\u001b[0m \u001b[43mcalculate\u001b[49m\u001b[43m(\u001b[49m\u001b[43m)\u001b[49m\n",
      "Input \u001b[1;32mIn [19]\u001b[0m, in \u001b[0;36mcalculate\u001b[1;34m()\u001b[0m\n\u001b[0;32m      2\u001b[0m \u001b[38;5;28;01mglobal\u001b[39;00m total, total_set\n\u001b[0;32m      3\u001b[0m \u001b[38;5;28;01mfor\u001b[39;00m idx, total \u001b[38;5;129;01min\u001b[39;00m \u001b[38;5;28menumerate\u001b[39m(total_set):\n\u001b[1;32m----> 4\u001b[0m     total \u001b[38;5;241m=\u001b[39m total \u001b[38;5;241m+\u001b[39m (\u001b[38;5;28;43msum\u001b[39;49m\u001b[43m(\u001b[49m\u001b[43mtotal_set\u001b[49m\u001b[43m[\u001b[49m\u001b[43midx\u001b[49m\u001b[43m]\u001b[49m\u001b[43m)\u001b[49m)\n\u001b[0;32m      6\u001b[0m \u001b[38;5;28;01mif\u001b[39;00m total \u001b[38;5;241m>\u001b[39m\u001b[38;5;241m=\u001b[39m \u001b[38;5;241m101\u001b[39m:\n\u001b[0;32m      7\u001b[0m     \u001b[38;5;28mprint\u001b[39m(\u001b[38;5;124m'\u001b[39m\u001b[38;5;124m#\u001b[39m\u001b[38;5;124m'\u001b[39m \u001b[38;5;241m*\u001b[39m \u001b[38;5;241m25\u001b[39m)\n",
      "\u001b[1;31mTypeError\u001b[0m: unsupported operand type(s) for +: 'int' and 'tuple'"
     ]
    }
   ],
   "source": [
    "calculate()"
   ]
  },
  {
   "cell_type": "markdown",
   "id": "977fc80b-99ce-4143-bb3a-95398616fa22",
   "metadata": {},
   "source": [
    "## Calculate Rack 2"
   ]
  },
  {
   "cell_type": "code",
   "execution_count": 12,
   "id": "5d5d2c89-328b-4f40-9d39-120c6141f032",
   "metadata": {},
   "outputs": [],
   "source": [
    "def calculate_double() -> str:\n",
    "    total_set_count = 5\n",
    "    current_set_count = len(total_set)\n",
    "    if current_set_count < total_set_count:\n",
    "        print('#' * 25)\n",
    "        print(f'El açmaz.\\nGüncel per sayısı: {current_set_count}\\nEl açmak için gerekli olan per sayısı: {total_set_count - current_set_count}')\n",
    "        print('#' * 25)\n",
    "\n",
    "    else:\n",
    "        print('#' * 25)\n",
    "        print(f'El açar.\\nToplam per sayısı: {total_set_count}')\n",
    "        print('#' * 25)"
   ]
  },
  {
   "cell_type": "code",
   "execution_count": 13,
   "id": "09670ba4-c533-4553-b404-0a2a9d9f0102",
   "metadata": {},
   "outputs": [
    {
     "name": "stdout",
     "output_type": "stream",
     "text": [
      "#########################\n",
      "El açmaz.\n",
      "Güncel per sayısı: 2\n",
      "El açmak için gerekli olan per sayısı: 3\n",
      "#########################\n"
     ]
    }
   ],
   "source": [
    "calculate_double()"
   ]
  },
  {
   "cell_type": "code",
   "execution_count": null,
   "id": "097940d5",
   "metadata": {},
   "outputs": [],
   "source": []
  }
 ],
 "metadata": {
  "kernelspec": {
   "display_name": "Python 3 (ipykernel)",
   "language": "python",
   "name": "python3"
  },
  "language_info": {
   "codemirror_mode": {
    "name": "ipython",
    "version": 3
   },
   "file_extension": ".py",
   "mimetype": "text/x-python",
   "name": "python",
   "nbconvert_exporter": "python",
   "pygments_lexer": "ipython3",
   "version": "3.9.12"
  }
 },
 "nbformat": 4,
 "nbformat_minor": 5
}
