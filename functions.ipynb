{
 "cells": [
  {
   "cell_type": "code",
   "execution_count": 1,
   "id": "9e9f7bfd-3c5f-4447-b8bc-42361028202b",
   "metadata": {},
   "outputs": [],
   "source": [
    "total = 0  # try to do: total >= 101\n",
    "total_set = [[('black', 6), ('black', 7), ('red', 8)],\n",
    "             [('black', 1), ('black', 2), ('black', 3)]]  # if check function returns true, add here.\n",
    "\n",
    "# Sample Inputs\n",
    "# input_1: [(black,1),(black,2), (black,3)]\n",
    "# input_2: [(black, 6), (black, 7), (red, 8)]\n",
    "\n",
    "\n",
    "# Test\n",
    "'''\n",
    "color_count = set()\n",
    "num_count = []\n",
    "\n",
    "set2 = [('black', 13), ('black', 13), ('red', 13)]  \n",
    "for idx, color in enumerate(set2):\n",
    "    color_count.add(set2[idx][0])\n",
    "    num_count.append(set2[idx][1])\n",
    "''';"
   ]
  },
  {
   "cell_type": "markdown",
   "id": "8b23e886-7443-4a1d-9c0a-fd35db3ba666",
   "metadata": {
    "tags": []
   },
   "source": [
    "## Check Sequential Set"
   ]
  },
  {
   "cell_type": "code",
   "execution_count": 2,
   "id": "806fab91-718e-4406-9d41-4b37174b05fd",
   "metadata": {},
   "outputs": [],
   "source": [
    "def check_Set(Set: list) -> bool:\n",
    "    color_count, num_count = [], []\n",
    "    min_len_set = 3\n",
    "    \n",
    "    # Calculate Run Set\n",
    "    # Color Condition: equal to 1\n",
    "    # Length Condition: between 3<=set_length<=13\n",
    "    \n",
    "    for idx, color in enumerate(Set):\n",
    "        color_count.append(Set[idx][0])\n",
    "        num_count.append(Set[idx][1])\n",
    "        \n",
    "    min_val = min(num_count)\n",
    "    max_val = max(num_count)\n",
    "        \n",
    "    if len(num_count) < min_len_set:\n",
    "        return False\n",
    "    \n",
    "    if max_val - min_val + 1 == len(num_count):\n",
    "        for tile in range(len(num_count)):\n",
    "            diff = num_count[tile] - min_val\n",
    "            if num_count[tile] > 0:\n",
    "                num_count[tile] = num_count[diff]\n",
    "\n",
    "            else:\n",
    "                return False\n",
    "\n",
    "        if len(set(color_count)) == 1:\n",
    "            return True\n",
    "        else:\n",
    "            return False\n",
    "    \n",
    "    # Calculate Group Set\n",
    "    # Color Condition: between 3<=color_count<=4\n",
    "    # Length Condition: between 3<=set_length<=4\n",
    "    \n",
    "    if len(set(num_count)) == 1:\n",
    "        def check_group(Set: list) -> bool:\n",
    "            color_count, num_count = [], []\n",
    "\n",
    "            for idx, color in enumerate(Set):\n",
    "                color_count.append(Set[idx][0])\n",
    "                num_count.append(Set[idx][1])\n",
    "\n",
    "\n",
    "            if len(set(color_count)) == 3 or len(set(color_count)) == 4:\n",
    "                if len(num_count) == 3 or len(num_count) == 4:\n",
    "                    return True\n",
    "                else:\n",
    "                    return False\n",
    "            else:\n",
    "                return False\n",
    "            \n",
    "        cg = check_group(Set)\n",
    "        return cg\n",
    "    else:\n",
    "        return False"
   ]
  },
  {
   "cell_type": "markdown",
   "id": "a3f75420-af57-465c-97d8-d5fac4ebcbb0",
   "metadata": {},
   "source": [
    "## Test check_Set function"
   ]
  },
  {
   "cell_type": "code",
   "execution_count": 3,
   "id": "45a65a36-75a8-4d4b-b72e-25a1949b1b5b",
   "metadata": {},
   "outputs": [
    {
     "name": "stdout",
     "output_type": "stream",
     "text": [
      "\n",
      "#########################\n",
      "Set 1: True\n",
      "Set 2: True\n",
      "Set 3: False\n",
      "Set 4: False\n",
      "Set 5: True\n",
      "Set 6: True\n",
      "Set 7: False\n",
      "#########################\n",
      "\n"
     ]
    }
   ],
   "source": [
    "set1 = [('red', 1), ('red', 5), ('red', 2), ('red', 4), ('red', 3)]  # True\n",
    "set2 = [('black', 4), ('black', 6), ('black', 7), ('black', 5)]      # True\n",
    "set3 = [('orange', 10), ('orange', 10), ('orange', 11)]              # False\n",
    "set4 = [('red', 7), ('red', 8)]                                      # False\n",
    "set5 = [('blue', 13), ('black', 13), ('red', 13)]                    # True\n",
    "set6 = [('black', 6), ('blue', 6), ('red', 6), ('orange', 6)]        # True\n",
    "set7 = [('blue',5),('blue',6),('red',7)]                             # False\n",
    "\n",
    "\n",
    "print(f'''\n",
    "#########################\n",
    "Set 1: {check_Set(set1)}\n",
    "Set 2: {check_Set(set2)}\n",
    "Set 3: {check_Set(set3)}\n",
    "Set 4: {check_Set(set4)}\n",
    "Set 5: {check_Set(set5)}\n",
    "Set 6: {check_Set(set6)}\n",
    "Set 7: {check_Set(set7)}\n",
    "#########################\n",
    "''') "
   ]
  },
  {
   "cell_type": "markdown",
   "id": "53572429-666e-4b17-b484-ab3a6ab476f0",
   "metadata": {},
   "source": [
    "## Check Double Set"
   ]
  },
  {
   "cell_type": "code",
   "execution_count": 4,
   "id": "87151507-0572-4eb6-9760-312ebcf3c5e9",
   "metadata": {},
   "outputs": [],
   "source": [
    "def check_double_Set(Set: list) -> bool: \n",
    "    # Calculate Same-value tiles in distinct colors / double set.\n",
    "    # Length Condition: equal to 2\n",
    "    set_length = 2\n",
    "    \n",
    "    if len(Set) == set_length:\n",
    "        if Set[0] == Set[1]:\n",
    "            return True\n",
    "        else:\n",
    "            return False\n",
    "    else:\n",
    "        return False"
   ]
  },
  {
   "cell_type": "markdown",
   "id": "fbda5297-4bfe-476b-84f6-114126629fef",
   "metadata": {},
   "source": [
    "## Test check_double_Set function"
   ]
  },
  {
   "cell_type": "code",
   "execution_count": 5,
   "id": "e8c464de-5258-493c-b8d1-cf61b977c8d5",
   "metadata": {},
   "outputs": [
    {
     "name": "stdout",
     "output_type": "stream",
     "text": [
      "\n",
      "#########################\n",
      "Set 1: True\n",
      "Set 2: True\n",
      "Set 3: False\n",
      "Set 4: False\n",
      "Set 5: True\n",
      "Set 6: True\n",
      "#########################\n",
      "    \n"
     ]
    }
   ],
   "source": [
    "set1 = [2,2]    # True\n",
    "set2 = [13,13]  # True\n",
    "set3 = [9,10]   # False\n",
    "set4 = [5,5,5]  # False\n",
    "set5 = [13,13]  # True\n",
    "set6 = [1,1]    # True\n",
    "\n",
    "\n",
    "print(f'''\n",
    "#########################\n",
    "Set 1: {check_double_Set(set1)}\n",
    "Set 2: {check_double_Set(set2)}\n",
    "Set 3: {check_double_Set(set3)}\n",
    "Set 4: {check_double_Set(set4)}\n",
    "Set 5: {check_double_Set(set5)}\n",
    "Set 6: {check_double_Set(set6)}\n",
    "#########################\n",
    "    ''') "
   ]
  },
  {
   "cell_type": "markdown",
   "id": "8ae8f591-b27f-4bfa-8d83-d5b23134653f",
   "metadata": {},
   "source": [
    "## Calculate Rack"
   ]
  },
  {
   "cell_type": "code",
   "execution_count": 6,
   "id": "63e20646",
   "metadata": {},
   "outputs": [
    {
     "name": "stdout",
     "output_type": "stream",
     "text": [
      "[[('black', 1), ('black', 2), ('black', 3)]]\n"
     ]
    }
   ],
   "source": [
    "calculate_set = []\n",
    "for Set in total_set:\n",
    "    if check_Set(Set) == True:\n",
    "        calculate_set.append(Set)\n",
    "    else:\n",
    "        pass\n",
    "    \n",
    "print(calculate_set)"
   ]
  },
  {
   "cell_type": "code",
   "execution_count": 7,
   "id": "687e4d26-cb08-4044-880d-ded6bcba54c4",
   "metadata": {},
   "outputs": [],
   "source": [
    "def calculate() -> str:\n",
    "    \n",
    "    num_count = []\n",
    "    global total, calculate_set\n",
    "    \n",
    "    for i in total_set:\n",
    "        for idx, color in enumerate(i):\n",
    "            num_count.append(i[idx][1])\n",
    "    total = sum(num_count)\n",
    "    \n",
    "    if total >= 101:\n",
    "        print(\"Eliniz Açar.\")\n",
    "    else:\n",
    "        print('Eliniz Açmaz. Açmak için gerekli olan puan:',(101-total))"
   ]
  },
  {
   "cell_type": "code",
   "execution_count": 8,
   "id": "3662a6b9-2638-42d1-8a76-559633082e05",
   "metadata": {},
   "outputs": [
    {
     "name": "stdout",
     "output_type": "stream",
     "text": [
      "Eliniz Açmaz. Açmak için gerekli olan puan: 74\n"
     ]
    }
   ],
   "source": [
    "calculate()"
   ]
  },
  {
   "cell_type": "markdown",
   "id": "977fc80b-99ce-4143-bb3a-95398616fa22",
   "metadata": {},
   "source": [
    "## Calculate Rack 2"
   ]
  },
  {
   "cell_type": "code",
   "execution_count": 9,
   "id": "5d5d2c89-328b-4f40-9d39-120c6141f032",
   "metadata": {},
   "outputs": [],
   "source": [
    "def calculate_double() -> str:\n",
    "    total_set_count = 5\n",
    "    current_set_count = len(total_set)\n",
    "    if current_set_count < total_set_count:\n",
    "        print('#' * 25)\n",
    "        print(f'El açmaz.\\nGüncel per sayısı: {current_set_count}\\nEl açmak için gerekli olan per sayısı: {total_set_count - current_set_count}')\n",
    "        print('#' * 25)\n",
    "\n",
    "    else:\n",
    "        print('#' * 25)\n",
    "        print(f'El açar.\\nToplam per sayısı: {total_set_count}')\n",
    "        print('#' * 25)"
   ]
  },
  {
   "cell_type": "code",
   "execution_count": 10,
   "id": "09670ba4-c533-4553-b404-0a2a9d9f0102",
   "metadata": {},
   "outputs": [
    {
     "name": "stdout",
     "output_type": "stream",
     "text": [
      "#########################\n",
      "El açmaz.\n",
      "Güncel per sayısı: 2\n",
      "El açmak için gerekli olan per sayısı: 3\n",
      "#########################\n"
     ]
    }
   ],
   "source": [
    "calculate_double()"
   ]
  }
 ],
 "metadata": {
  "kernelspec": {
   "display_name": "Python 3 (ipykernel)",
   "language": "python",
   "name": "python3"
  },
  "language_info": {
   "codemirror_mode": {
    "name": "ipython",
    "version": 3
   },
   "file_extension": ".py",
   "mimetype": "text/x-python",
   "name": "python",
   "nbconvert_exporter": "python",
   "pygments_lexer": "ipython3",
   "version": "3.9.12"
  },
  "vscode": {
   "interpreter": {
    "hash": "d8a3961acbac4176e4eb82bfad41746b00712759e55200201ef6c9efae3a7ac6"
   }
  }
 },
 "nbformat": 4,
 "nbformat_minor": 5
}
