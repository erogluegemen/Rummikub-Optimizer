{
 "cells": [
  {
   "cell_type": "code",
   "execution_count": 1,
   "id": "622c794e-867c-47b8-9fe0-e5438a43f400",
   "metadata": {},
   "outputs": [],
   "source": [
    "# !pip install Augmentor\n",
    "import Augmentor"
   ]
  },
  {
   "cell_type": "code",
   "execution_count": 3,
   "id": "59ca8785-e349-4335-bc60-2dbefb2b9578",
   "metadata": {},
   "outputs": [
    {
     "name": "stdout",
     "output_type": "stream",
     "text": [
      "Initialised with 10 image(s) found.\n",
      "Output directory set to /Users/egemeneroglu/PycharmProjects/101_project/images/rummikub tile/output."
     ]
    },
    {
     "name": "stderr",
     "output_type": "stream",
     "text": [
      "Processing <PIL.Image.Image image mode=RGB size=570x428 at 0x7FB5C8E2F580>: 100%\n"
     ]
    }
   ],
   "source": [
    "p = Augmentor.Pipeline(r'/Users/egemeneroglu/PycharmProjects/101_project/images/rummikub tile')\n",
    "p.zoom(probability=0.3, min_factor=0.8, max_factor=1.5)\n",
    "p.flip_top_bottom(probability=0.4)\n",
    "p.random_brightness(probability=0.3, min_factor=0.3, max_factor=1.2)\n",
    "p.random_distortion(probability=1, grid_width=4, grid_height=4, magnitude=8)\n",
    "p.sample(100)"
   ]
  }
 ],
 "metadata": {
  "kernelspec": {
   "display_name": "Python [conda env:datascience] *",
   "language": "python",
   "name": "conda-env-datascience-py"
  },
  "language_info": {
   "codemirror_mode": {
    "name": "ipython",
    "version": 3
   },
   "file_extension": ".py",
   "mimetype": "text/x-python",
   "name": "python",
   "nbconvert_exporter": "python",
   "pygments_lexer": "ipython3",
   "version": "3.8.13"
  }
 },
 "nbformat": 4,
 "nbformat_minor": 5
}
